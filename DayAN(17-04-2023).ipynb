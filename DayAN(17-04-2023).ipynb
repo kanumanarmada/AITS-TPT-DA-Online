{
 "cells": [
  {
   "cell_type": "markdown",
   "id": "35db2753",
   "metadata": {},
   "source": [
    "### Python Data Structures:\n",
    "- In python 4 types of data structures:\n",
    "- 1. List -> [] square brackets\n",
    "- 2. Tuple -> () round brackets\n",
    "- 3. Dicitonary -> {} curly brackets\n",
    "- 4. sets -> {} curly brackets"
   ]
  },
  {
   "cell_type": "markdown",
   "id": "f4837743",
   "metadata": {},
   "source": [
    "### 1. List:\n",
    "            - It is used to store the different data types. like int,float,string,character....\n",
    "            - It is mutable(changable).\n",
    "            - By using index positions we can access the list values.."
   ]
  },
  {
   "cell_type": "code",
   "execution_count": 1,
   "id": "91e777c2",
   "metadata": {},
   "outputs": [
    {
     "name": "stdout",
     "output_type": "stream",
     "text": [
      "[10, 23.67, 'apssdc', 35]\n",
      "<class 'list'>\n"
     ]
    }
   ],
   "source": [
    "L1 = [10,23.67,'apssdc',35]\n",
    "print(L1)\n",
    "print(type(L1))"
   ]
  },
  {
   "cell_type": "code",
   "execution_count": 8,
   "id": "2460a473",
   "metadata": {},
   "outputs": [
    {
     "name": "stdout",
     "output_type": "stream",
     "text": [
      "[1, 2, 3, 5, 6, 7]\n",
      "[1, 2, 3]\n"
     ]
    }
   ],
   "source": [
    "L1 = [1,2,3]\n",
    "L2 = [5,6,7]\n",
    "# output: [1,2,3,5,6,7]\n",
    "print(L1+L2)\n",
    "print(L1)"
   ]
  },
  {
   "cell_type": "code",
   "execution_count": 9,
   "id": "ef6e0d20",
   "metadata": {},
   "outputs": [
    {
     "name": "stdout",
     "output_type": "stream",
     "text": [
      "[1, 2, 3, 5, 6, 7]\n"
     ]
    }
   ],
   "source": [
    "L1.extend(L2)\n",
    "print(L1)"
   ]
  },
  {
   "cell_type": "code",
   "execution_count": 10,
   "id": "ba94dede",
   "metadata": {},
   "outputs": [
    {
     "name": "stdout",
     "output_type": "stream",
     "text": [
      "['__add__', '__class__', '__contains__', '__delattr__', '__delitem__', '__dir__', '__doc__', '__eq__', '__format__', '__ge__', '__getattribute__', '__getitem__', '__gt__', '__hash__', '__iadd__', '__imul__', '__init__', '__init_subclass__', '__iter__', '__le__', '__len__', '__lt__', '__mul__', '__ne__', '__new__', '__reduce__', '__reduce_ex__', '__repr__', '__reversed__', '__rmul__', '__setattr__', '__setitem__', '__sizeof__', '__str__', '__subclasshook__', 'append', 'clear', 'copy', 'count', 'extend', 'index', 'insert', 'pop', 'remove', 'reverse', 'sort']\n"
     ]
    }
   ],
   "source": [
    "print(dir(list))"
   ]
  },
  {
   "cell_type": "markdown",
   "id": "73040c68",
   "metadata": {},
   "source": [
    "### 2. Tuple:()\n",
    "        - It is a collection of differenet data types.. like, int,float,string..\n",
    "        - It is immutable(can't changable)"
   ]
  },
  {
   "cell_type": "code",
   "execution_count": 11,
   "id": "e81b8b4d",
   "metadata": {},
   "outputs": [
    {
     "name": "stdout",
     "output_type": "stream",
     "text": [
      "(10, 34.5, 'python')\n",
      "<class 'tuple'>\n"
     ]
    }
   ],
   "source": [
    "# To initialize the tuple...\n",
    "t1 = (10,34.5,'python')\n",
    "print(t1)\n",
    "print(type(t1))"
   ]
  },
  {
   "cell_type": "code",
   "execution_count": 14,
   "id": "0ffd0c9b",
   "metadata": {},
   "outputs": [
    {
     "name": "stdout",
     "output_type": "stream",
     "text": [
      "(45,)\n",
      "<class 'tuple'>\n"
     ]
    }
   ],
   "source": [
    "# To store the single value to the tuple...\n",
    "t2 =(45,)\n",
    "print(t2)\n",
    "print(type(t2))"
   ]
  },
  {
   "cell_type": "code",
   "execution_count": 16,
   "id": "e36d22ad",
   "metadata": {},
   "outputs": [
    {
     "name": "stdout",
     "output_type": "stream",
     "text": [
      "(10, 34.5, 'python')\n",
      "10\n"
     ]
    }
   ],
   "source": [
    "# To access the tuple values...\n",
    "print(t1)\n",
    "print(t1[0])"
   ]
  },
  {
   "cell_type": "code",
   "execution_count": 18,
   "id": "eb0ebcfd",
   "metadata": {},
   "outputs": [
    {
     "name": "stdout",
     "output_type": "stream",
     "text": [
      "(10, 34.5, 'python')\n"
     ]
    },
    {
     "ename": "TypeError",
     "evalue": "'tuple' object does not support item assignment",
     "output_type": "error",
     "traceback": [
      "\u001b[1;31m---------------------------------------------------------------------------\u001b[0m",
      "\u001b[1;31mTypeError\u001b[0m                                 Traceback (most recent call last)",
      "\u001b[1;32m<ipython-input-18-cd5261d48b8c>\u001b[0m in \u001b[0;36m<module>\u001b[1;34m\u001b[0m\n\u001b[0;32m      1\u001b[0m \u001b[1;31m# To update the tuple values\u001b[0m\u001b[1;33m\u001b[0m\u001b[1;33m\u001b[0m\u001b[1;33m\u001b[0m\u001b[0m\n\u001b[0;32m      2\u001b[0m \u001b[0mprint\u001b[0m\u001b[1;33m(\u001b[0m\u001b[0mt1\u001b[0m\u001b[1;33m)\u001b[0m\u001b[1;33m\u001b[0m\u001b[1;33m\u001b[0m\u001b[0m\n\u001b[1;32m----> 3\u001b[1;33m \u001b[0mt1\u001b[0m\u001b[1;33m[\u001b[0m\u001b[1;36m0\u001b[0m\u001b[1;33m]\u001b[0m\u001b[1;33m=\u001b[0m\u001b[1;36m100\u001b[0m\u001b[1;33m\u001b[0m\u001b[1;33m\u001b[0m\u001b[0m\n\u001b[0m\u001b[0;32m      4\u001b[0m \u001b[0mprint\u001b[0m\u001b[1;33m(\u001b[0m\u001b[0mt1\u001b[0m\u001b[1;33m)\u001b[0m\u001b[1;33m\u001b[0m\u001b[1;33m\u001b[0m\u001b[0m\n",
      "\u001b[1;31mTypeError\u001b[0m: 'tuple' object does not support item assignment"
     ]
    }
   ],
   "source": [
    "# To update the tuple values\n",
    "print(t1)\n",
    "t1[0]=100\n",
    "print(t1)"
   ]
  },
  {
   "cell_type": "code",
   "execution_count": 19,
   "id": "93395ab4",
   "metadata": {},
   "outputs": [
    {
     "name": "stdout",
     "output_type": "stream",
     "text": [
      "['__add__', '__class__', '__contains__', '__delattr__', '__dir__', '__doc__', '__eq__', '__format__', '__ge__', '__getattribute__', '__getitem__', '__getnewargs__', '__gt__', '__hash__', '__init__', '__init_subclass__', '__iter__', '__le__', '__len__', '__lt__', '__mul__', '__ne__', '__new__', '__reduce__', '__reduce_ex__', '__repr__', '__rmul__', '__setattr__', '__sizeof__', '__str__', '__subclasshook__', 'count', 'index']\n"
     ]
    }
   ],
   "source": [
    "print(dir(tuple))"
   ]
  },
  {
   "cell_type": "code",
   "execution_count": null,
   "id": "10586c6f",
   "metadata": {},
   "outputs": [],
   "source": [
    "t1 = (10,10,20,20,30)\n",
    "print(t1.count(10))"
   ]
  },
  {
   "cell_type": "code",
   "execution_count": 22,
   "id": "392650d1",
   "metadata": {},
   "outputs": [
    {
     "name": "stdout",
     "output_type": "stream",
     "text": [
      "(10, 10, 20, 20, 30)\n",
      "0\n"
     ]
    }
   ],
   "source": [
    "print(t1)\n",
    "print(t1.index(10))"
   ]
  },
  {
   "cell_type": "markdown",
   "id": "80e4ebd6",
   "metadata": {},
   "source": [
    "### Dictionary:\n",
    "            - It is a collection of different data items in the format of keys and values... like, {keyname:value}.\n",
    "            - In dictionary keynames are unique..\n",
    "            - It is mutable(changable)\n",
    "            - To access the dictionary values by using keyname..\n",
    "            - It is unordered."
   ]
  },
  {
   "cell_type": "code",
   "execution_count": 23,
   "id": "a6881a75",
   "metadata": {},
   "outputs": [
    {
     "name": "stdout",
     "output_type": "stream",
     "text": [
      "{'name': 'lalitha', 'rollno': 510}\n",
      "<class 'dict'>\n"
     ]
    }
   ],
   "source": [
    "# To store the dictionary values...\n",
    "d1 = {'name':'lalitha','rollno':510}\n",
    "print(d1)\n",
    "print(type(d1))"
   ]
  },
  {
   "cell_type": "code",
   "execution_count": 24,
   "id": "4c0c4a57",
   "metadata": {},
   "outputs": [
    {
     "name": "stdout",
     "output_type": "stream",
     "text": [
      "{'name': 'lalitha', 'rollno': 510, 'branch': 'cse'}\n"
     ]
    }
   ],
   "source": [
    "# To add new item to the diciotnary..\n",
    "d1['branch']='cse'\n",
    "print(d1)"
   ]
  },
  {
   "cell_type": "code",
   "execution_count": 25,
   "id": "e59bad12",
   "metadata": {},
   "outputs": [
    {
     "data": {
      "text/plain": [
       "'lalitha'"
      ]
     },
     "execution_count": 25,
     "metadata": {},
     "output_type": "execute_result"
    }
   ],
   "source": [
    "# To access the diciotnary values...\n",
    "d1['name']"
   ]
  },
  {
   "cell_type": "code",
   "execution_count": 31,
   "id": "7858f9ef",
   "metadata": {},
   "outputs": [
    {
     "name": "stdout",
     "output_type": "stream",
     "text": [
      "{'name': 'lalitha', 'rollno': 510, 'branch': 'cse'}\n",
      "name lalitha\n",
      "rollno 510\n",
      "branch cse\n"
     ]
    }
   ],
   "source": [
    "# using the forloop to access the dicitonary values...\n",
    "print(d1)\n",
    "# output: name lalitha\n",
    "#print(d1.items())\n",
    "for i,j in d1.items():\n",
    "    print(i,j)"
   ]
  },
  {
   "cell_type": "code",
   "execution_count": 32,
   "id": "6174be55",
   "metadata": {},
   "outputs": [
    {
     "name": "stdout",
     "output_type": "stream",
     "text": [
      "{'Name': ['Ganesh', 'nethra'], 'Rollno': [410, 510]}\n"
     ]
    }
   ],
   "source": [
    "# To store the mutliple records ...\n",
    "d2 = {'Name':['Ganesh','nethra'],'Rollno':[410,510]}\n",
    "print(d2)"
   ]
  },
  {
   "cell_type": "code",
   "execution_count": 33,
   "id": "ff2baf28",
   "metadata": {},
   "outputs": [
    {
     "name": "stdout",
     "output_type": "stream",
     "text": [
      "nethra\n"
     ]
    }
   ],
   "source": [
    "print(d2['Name'][1])"
   ]
  },
  {
   "cell_type": "code",
   "execution_count": 34,
   "id": "ba1432f6",
   "metadata": {},
   "outputs": [
    {
     "name": "stdout",
     "output_type": "stream",
     "text": [
      "['__class__', '__contains__', '__delattr__', '__delitem__', '__dir__', '__doc__', '__eq__', '__format__', '__ge__', '__getattribute__', '__getitem__', '__gt__', '__hash__', '__init__', '__init_subclass__', '__iter__', '__le__', '__len__', '__lt__', '__ne__', '__new__', '__reduce__', '__reduce_ex__', '__repr__', '__reversed__', '__setattr__', '__setitem__', '__sizeof__', '__str__', '__subclasshook__', 'clear', 'copy', 'fromkeys', 'get', 'items', 'keys', 'pop', 'popitem', 'setdefault', 'update', 'values']\n"
     ]
    }
   ],
   "source": [
    "print(dir(dict))"
   ]
  },
  {
   "cell_type": "code",
   "execution_count": 37,
   "id": "a8c43bec",
   "metadata": {},
   "outputs": [
    {
     "name": "stdout",
     "output_type": "stream",
     "text": [
      "{'name': 'lalitha', 'rollno': 510, 'branch': 'cse'}\n",
      "dict_keys(['name', 'rollno', 'branch'])\n"
     ]
    }
   ],
   "source": [
    "# To print the keynames?\n",
    "print(d1)\n",
    "# keys() method\n",
    "print(d1.keys())"
   ]
  },
  {
   "cell_type": "code",
   "execution_count": 39,
   "id": "fdc5fdc8",
   "metadata": {},
   "outputs": [
    {
     "name": "stdout",
     "output_type": "stream",
     "text": [
      "{'name': 'lalitha', 'rollno': 510, 'branch': 'cse'}\n",
      "dict_values(['lalitha', 510, 'cse'])\n"
     ]
    }
   ],
   "source": [
    "# To print the only values...\n",
    "print(d1)\n",
    "print(d1.values())"
   ]
  },
  {
   "cell_type": "code",
   "execution_count": 42,
   "id": "d94f65b1",
   "metadata": {},
   "outputs": [
    {
     "name": "stdout",
     "output_type": "stream",
     "text": [
      "{'name': 'lalitha', 'rollno': 510, 'branch': 'cse'}\n",
      "dict_items([('name', 'lalitha'), ('rollno', 510), ('branch', 'cse')])\n"
     ]
    }
   ],
   "source": [
    "# To print the dictionary items?\n",
    "print(d1)\n",
    "print(d1.items())"
   ]
  },
  {
   "cell_type": "code",
   "execution_count": 43,
   "id": "1457cdaa",
   "metadata": {},
   "outputs": [
    {
     "name": "stdout",
     "output_type": "stream",
     "text": [
      "lalitha\n"
     ]
    }
   ],
   "source": [
    "# get(): To print the values based on keyname..\n",
    "print(d1.get('name'))"
   ]
  },
  {
   "cell_type": "code",
   "execution_count": 44,
   "id": "beb17611",
   "metadata": {},
   "outputs": [
    {
     "name": "stdout",
     "output_type": "stream",
     "text": [
      "dict_values(['lalitha', 510, 'cse'])\n"
     ]
    }
   ],
   "source": [
    "#values():\n",
    "print(d1.values())"
   ]
  },
  {
   "cell_type": "code",
   "execution_count": 47,
   "id": "5889c2c8",
   "metadata": {},
   "outputs": [
    {
     "name": "stdout",
     "output_type": "stream",
     "text": [
      "{'name': 'lalitha', 'rollno': 510}\n",
      "{'name': 'lalitha'}\n"
     ]
    }
   ],
   "source": [
    "#popitem() # To delete the last item from the dicitonary..\n",
    "print(d1)\n",
    "d1.popitem()\n",
    "print(d1)"
   ]
  },
  {
   "cell_type": "code",
   "execution_count": 48,
   "id": "7bbe2bbb",
   "metadata": {},
   "outputs": [
    {
     "name": "stdout",
     "output_type": "stream",
     "text": [
      "{'name': None, 'rollno': None, 'branch': None}\n"
     ]
    }
   ],
   "source": [
    "# fromkeys():\n",
    "# To create the new diciotnary with keynames\n",
    "d2 = dict.fromkeys(['name','rollno','branch'])\n",
    "print(d2)"
   ]
  },
  {
   "cell_type": "code",
   "execution_count": 49,
   "id": "45b99c5f",
   "metadata": {},
   "outputs": [
    {
     "name": "stdout",
     "output_type": "stream",
     "text": [
      "1 24\n",
      "2 44\n",
      "5 100\n"
     ]
    }
   ],
   "source": [
    "d ={1:24,2:44,3:97,4:13,5:100,6:57}\n",
    "# output: {1:24,2:44,5:100}\n",
    "# To print the even value item...\n",
    "for i,j in d.items():\n",
    "    if j%2 == 0:\n",
    "        print(i,j)"
   ]
  },
  {
   "cell_type": "markdown",
   "id": "6ed71ec9",
   "metadata": {},
   "source": [
    "### set:\n",
    "        - It is a collection of different data types.. like int,float,string..\n",
    "        - It is immutable\n",
    "        - set is not allow the duplication of data..\n",
    "        - set is unordered and unindexed.."
   ]
  },
  {
   "cell_type": "code",
   "execution_count": 51,
   "id": "c70cc5ff",
   "metadata": {},
   "outputs": [
    {
     "name": "stdout",
     "output_type": "stream",
     "text": [
      "set()\n",
      "<class 'set'>\n"
     ]
    }
   ],
   "source": [
    "# to create the empty set...\n",
    "s1 = set()\n",
    "print(s1)\n",
    "print(type(s1))"
   ]
  },
  {
   "cell_type": "code",
   "execution_count": 53,
   "id": "c8ca2965",
   "metadata": {},
   "outputs": [
    {
     "name": "stdout",
     "output_type": "stream",
     "text": [
      "{1, 10, 20, 23.45, 30}\n"
     ]
    }
   ],
   "source": [
    "s1={10,20,10,20,30,10,1,23.45}\n",
    "print(s1)"
   ]
  },
  {
   "cell_type": "markdown",
   "id": "d7baf52d",
   "metadata": {},
   "source": [
    "### tasks:\n",
    "1. TO convert the digits into words of a given number?\n",
    "input: n=643\n",
    "output: six four three\n",
    "2. To check whether the given number is palindrome or not?\n",
    "input1: n=121\n",
    "output: It is a palindrome\n",
    "input2: n=435\n",
    "output: It is not a palindrome\n",
    "3. To print the nth table upto 10?\n",
    "input: n=4\n",
    "output: 4*1=4\n",
    "        ------\n",
    "        -----\n",
    "        4*10=40\n",
    "4. To print the factors of a given numbers?\n",
    "input: n=6\n",
    "output: 1 2 3 6\n",
    "5. To print the 1 to 100 prime numers?\n",
    "output: 2 3 5 7 11 13....\n",
    "6. To swap the frist and last character of a given string?\n",
    "input: s = python\n",
    "output: nythop\n",
    "7. To print the number of digits,characters,spaces,special characters of a given?\n",
    "input: s=pyth@123 workshop\n",
    "output: digits: 3\n",
    "8. To print the unique elements from a given list?\n",
    "input: L1=[10,20,11,23,10,20]\n",
    "output: L1=[10,20,11,23]\n",
    "9. To print the list in ascending order?\n",
    "input: L1=[1,23,5,78,9]\n",
    "output: [1,5,9,23,78]\n",
    "10. To read one element to print the index position from a list?\n",
    "input: L1=[10,20,10,20,10,10,30]\n",
    "output: 10 -> 0,2,4,5\n",
    "11. To print the element frequency?\n",
    "input: L1=[10,20,10,30,10,20]\n",
    "output: 10 -> 3 times\n",
    "        20 -> 2 times\n",
    "        30 -> 1 times"
   ]
  },
  {
   "cell_type": "code",
   "execution_count": null,
   "id": "8beac198",
   "metadata": {},
   "outputs": [],
   "source": []
  }
 ],
 "metadata": {
  "kernelspec": {
   "display_name": "Python 3",
   "language": "python",
   "name": "python3"
  },
  "language_info": {
   "codemirror_mode": {
    "name": "ipython",
    "version": 3
   },
   "file_extension": ".py",
   "mimetype": "text/x-python",
   "name": "python",
   "nbconvert_exporter": "python",
   "pygments_lexer": "ipython3",
   "version": "3.8.8"
  }
 },
 "nbformat": 4,
 "nbformat_minor": 5
}
