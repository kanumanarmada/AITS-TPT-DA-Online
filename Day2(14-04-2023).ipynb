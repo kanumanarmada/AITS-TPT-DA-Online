{
 "cells": [
  {
   "cell_type": "code",
   "execution_count": 1,
   "id": "801d539d",
   "metadata": {},
   "outputs": [
    {
     "name": "stdout",
     "output_type": "stream",
     "text": [
      "2345\n",
      "two three four five\n"
     ]
    }
   ],
   "source": [
    "#convertion of numbers to words\n",
    " \n",
    "num={1:\"one\",2:\"two\",3:\"three\",4:\"four\",5:\"five\",6:\"six\",7:\"seven\",8:\"eight\",9:\"nine\",10:\"ten\"}\n",
    "n=list(map(int,input()))\n",
    "res=[]\n",
    "for i in n:\n",
    "    if(i!=[key for key in num]):\n",
    "      res.append(num[i])\n",
    "print(\" \".join(res))"
   ]
  },
  {
   "cell_type": "code",
   "execution_count": 4,
   "id": "d05e5c70",
   "metadata": {},
   "outputs": [
    {
     "name": "stdout",
     "output_type": "stream",
     "text": [
      "Enter any number01\n",
      "01\n",
      "zero one "
     ]
    }
   ],
   "source": [
    "n = input(\"Enter any number\")\n",
    "print(n)\n",
    "for i in n:\n",
    "    if int(i)==0:\n",
    "        print('zero',end=\" \")\n",
    "    elif(int(i)==1):\n",
    "        print('one',end=\" \")"
   ]
  },
  {
   "cell_type": "markdown",
   "id": "0b7307ec",
   "metadata": {},
   "source": [
    "### function:\n",
    "       - It is a group of statement and it's performs the specific task.\n",
    "       - By using 'def' keyword we can develop the functions.\n",
    "- Two types of functions:\n",
    "- 1. pre define functions: sum,max,min,print,........\n",
    "- 2. user define functions\n",
    "    - 4 types of user define functions:\n",
    "    - 1. with arguments and with return values\n",
    "    - 2. with out argumnets and with return values\n",
    "    - 3. with arguments and with out return values\n",
    "    - 4. with out arguments and with out return values\n",
    "- function syntax:\n",
    "def function_name(arguments list): function definition\n",
    "    statements\n",
    "- function calling syntax:\n",
    "function_name(input_variables) function calling"
   ]
  },
  {
   "cell_type": "code",
   "execution_count": 7,
   "id": "4462edca",
   "metadata": {},
   "outputs": [
    {
     "name": "stdout",
     "output_type": "stream",
     "text": [
      "enter n value: 12\n",
      "Enter m value: 78\n"
     ]
    },
    {
     "data": {
      "text/plain": [
       "90"
      ]
     },
     "execution_count": 7,
     "metadata": {},
     "output_type": "execute_result"
    }
   ],
   "source": [
    "# 1. with arguments and with return values..\n",
    "# 1. To perform the addition of two numbers?\n",
    "def addition(a,b):#function definition\n",
    "    return a+b\n",
    "n = int(input(\"enter n value: \"))\n",
    "m = int(input(\"Enter m value: \"))\n",
    "addition(n,m) # function calling"
   ]
  },
  {
   "cell_type": "code",
   "execution_count": 10,
   "id": "6fd83cbc",
   "metadata": {},
   "outputs": [
    {
     "name": "stdout",
     "output_type": "stream",
     "text": [
      "Enter n value: 5\n"
     ]
    },
    {
     "data": {
      "text/plain": [
       "120"
      ]
     },
     "execution_count": 10,
     "metadata": {},
     "output_type": "execute_result"
    }
   ],
   "source": [
    "# 2. with out arguments and with return values...\n",
    "# To find the factorial of given number..\n",
    "def factorial():\n",
    "    n = int(input(\"Enter n value: \"))\n",
    "    f1 = 1\n",
    "    for i in range(1,n+1):\n",
    "        f1 = f1*i\n",
    "    return f1\n",
    "factorial()"
   ]
  },
  {
   "cell_type": "markdown",
   "id": "6cd5b565",
   "metadata": {},
   "source": [
    "#### four types of arguments:\n",
    "- 1. variable length arguments\n",
    "- 2. keyword length argumnets\n",
    "- 3. default argument\n",
    "- 4. non-default argumnets"
   ]
  },
  {
   "cell_type": "markdown",
   "id": "83f11f86",
   "metadata": {},
   "source": [
    "#### 1. variable length arguments:\n",
    "        - By using'*' symbol we can develop the variable length arguments.\n",
    "        - It returns the data in the format of tuple..."
   ]
  },
  {
   "cell_type": "code",
   "execution_count": 12,
   "id": "ec195459",
   "metadata": {},
   "outputs": [
    {
     "name": "stdout",
     "output_type": "stream",
     "text": [
      "(10,)\n"
     ]
    }
   ],
   "source": [
    "def sample(*a):\n",
    "    print(a)\n",
    "sample(10)"
   ]
  },
  {
   "cell_type": "markdown",
   "id": "1ad40f7e",
   "metadata": {},
   "source": [
    "### keyword length arguments:\n",
    "        - using '**' symbol we can develop the keyword length arguments..\n",
    "        - It returns the data in the format dictionary.."
   ]
  },
  {
   "cell_type": "code",
   "execution_count": 13,
   "id": "7183b9fb",
   "metadata": {},
   "outputs": [
    {
     "name": "stdout",
     "output_type": "stream",
     "text": [
      "{'name': 'narmada', 'rollno': 234}\n"
     ]
    }
   ],
   "source": [
    "# keyword length arguments..\n",
    "def example(**k):\n",
    "    print(k)\n",
    "example(name='narmada',rollno=234)"
   ]
  },
  {
   "cell_type": "code",
   "execution_count": 18,
   "id": "67282422",
   "metadata": {},
   "outputs": [
    {
     "name": "stdout",
     "output_type": "stream",
     "text": [
      "23 34\n"
     ]
    }
   ],
   "source": [
    "# default and non-default arguments..\n",
    "def hello(b,a=100):\n",
    "    print(b,a)\n",
    "hello(23,34)"
   ]
  },
  {
   "cell_type": "markdown",
   "id": "608f323f",
   "metadata": {},
   "source": [
    "### modules and packages:\n",
    "- 1. Module:\n",
    "        - Module is nothing but .py file.\n",
    "        - It is collection of functions and data, class and object..\n",
    "        - we can use import keyword.\n",
    "        - syntax:\n",
    "                import module_name\n",
    "                - accessing the module:\n",
    "                    module_name.function_name\n",
    "                    module_name.class_name\n",
    "                    module_name.data"
   ]
  },
  {
   "cell_type": "code",
   "execution_count": 23,
   "id": "5e19abfd",
   "metadata": {},
   "outputs": [],
   "source": [
    "import demo"
   ]
  },
  {
   "cell_type": "code",
   "execution_count": 20,
   "id": "bc1b1d90",
   "metadata": {},
   "outputs": [
    {
     "data": {
      "text/plain": [
       "68"
      ]
     },
     "execution_count": 20,
     "metadata": {},
     "output_type": "execute_result"
    }
   ],
   "source": [
    "demo.addition(23,45)"
   ]
  },
  {
   "cell_type": "code",
   "execution_count": 21,
   "id": "a384cf77",
   "metadata": {},
   "outputs": [
    {
     "data": {
      "text/plain": [
       "23"
      ]
     },
     "execution_count": 21,
     "metadata": {},
     "output_type": "execute_result"
    }
   ],
   "source": [
    "demo.k"
   ]
  },
  {
   "cell_type": "code",
   "execution_count": 22,
   "id": "02c288f2",
   "metadata": {},
   "outputs": [
    {
     "data": {
      "text/plain": [
       "'DA workshop'"
      ]
     },
     "execution_count": 22,
     "metadata": {},
     "output_type": "execute_result"
    }
   ],
   "source": [
    "demo.s"
   ]
  },
  {
   "cell_type": "code",
   "execution_count": 24,
   "id": "3929b242",
   "metadata": {},
   "outputs": [
    {
     "name": "stdout",
     "output_type": "stream",
     "text": [
      "Help on module demo:\n",
      "\n",
      "NAME\n",
      "    demo\n",
      "\n",
      "FUNCTIONS\n",
      "    addition(a, b)\n",
      "    \n",
      "    multiplication(a, b, c)\n",
      "\n",
      "DATA\n",
      "    k = 23\n",
      "    s = 'DA workshop'\n",
      "\n",
      "FILE\n",
      "    c:\\users\\bhavya\\aitstpt-da workshop\\demo.py\n",
      "\n",
      "\n"
     ]
    }
   ],
   "source": [
    "help(demo)"
   ]
  },
  {
   "cell_type": "code",
   "execution_count": 25,
   "id": "fce184c9",
   "metadata": {},
   "outputs": [
    {
     "data": {
      "text/plain": [
       "300"
      ]
     },
     "execution_count": 25,
     "metadata": {},
     "output_type": "execute_result"
    }
   ],
   "source": [
    "import demo as d # alias names\n",
    "d.addition(100,200)"
   ]
  },
  {
   "cell_type": "code",
   "execution_count": 26,
   "id": "81c578c8",
   "metadata": {},
   "outputs": [
    {
     "data": {
      "text/plain": [
       "68"
      ]
     },
     "execution_count": 26,
     "metadata": {},
     "output_type": "execute_result"
    }
   ],
   "source": [
    "# from keyword..\n",
    "# syntax: from module_name import function name\n",
    "from demo import addition\n",
    "addition(23,45)"
   ]
  },
  {
   "cell_type": "code",
   "execution_count": 27,
   "id": "c89ba2c6",
   "metadata": {},
   "outputs": [
    {
     "data": {
      "text/plain": [
       "300"
      ]
     },
     "execution_count": 27,
     "metadata": {},
     "output_type": "execute_result"
    }
   ],
   "source": [
    "from demo import addition as a\n",
    "a(100,200)"
   ]
  },
  {
   "cell_type": "code",
   "execution_count": 28,
   "id": "ca768261",
   "metadata": {},
   "outputs": [
    {
     "data": {
      "text/plain": [
       "23"
      ]
     },
     "execution_count": 28,
     "metadata": {},
     "output_type": "execute_result"
    }
   ],
   "source": [
    "# by using '*' symbol we can access the all data...\n",
    "from demo import *\n",
    "k"
   ]
  },
  {
   "cell_type": "markdown",
   "id": "a678a4ee",
   "metadata": {},
   "source": [
    "## packages:\n",
    "        - It is a collection of modules..\n",
    "        - package is nothing but one directory(folder)\n",
    "        - syntax:\n",
    "                import package_name.module_name\n",
    "               - Accessing the functions\n",
    "                   package_name.module_name.function_name"
   ]
  },
  {
   "cell_type": "code",
   "execution_count": 29,
   "id": "aa4a7fa0",
   "metadata": {},
   "outputs": [],
   "source": [
    "import apssdc.menu"
   ]
  },
  {
   "cell_type": "code",
   "execution_count": 30,
   "id": "66a622d1",
   "metadata": {},
   "outputs": [
    {
     "name": "stdout",
     "output_type": "stream",
     "text": [
      "Help on module apssdc.menu in apssdc:\n",
      "\n",
      "NAME\n",
      "    apssdc.menu\n",
      "\n",
      "FUNCTIONS\n",
      "    digitcount(n)\n",
      "    \n",
      "    subtraction(p, q)\n",
      "\n",
      "DATA\n",
      "    s = 'python programming'\n",
      "\n",
      "FILE\n",
      "    c:\\users\\bhavya\\aitstpt-da workshop\\apssdc\\menu.py\n",
      "\n",
      "\n"
     ]
    }
   ],
   "source": [
    "help(apssdc.menu)"
   ]
  },
  {
   "cell_type": "code",
   "execution_count": 31,
   "id": "51d178e5",
   "metadata": {},
   "outputs": [
    {
     "data": {
      "text/plain": [
       "3"
      ]
     },
     "execution_count": 31,
     "metadata": {},
     "output_type": "execute_result"
    }
   ],
   "source": [
    "apssdc.menu.digitcount(234)"
   ]
  },
  {
   "cell_type": "code",
   "execution_count": 32,
   "id": "13954960",
   "metadata": {},
   "outputs": [
    {
     "data": {
      "text/plain": [
       "-22"
      ]
     },
     "execution_count": 32,
     "metadata": {},
     "output_type": "execute_result"
    }
   ],
   "source": [
    "# using from keyword\n",
    "# syntax: from package_name.module_name import function_name\n",
    "from apssdc.menu import subtraction\n",
    "subtraction(23,45)"
   ]
  },
  {
   "cell_type": "code",
   "execution_count": 33,
   "id": "25f7c459",
   "metadata": {},
   "outputs": [
    {
     "data": {
      "text/plain": [
       "3"
      ]
     },
     "execution_count": 33,
     "metadata": {},
     "output_type": "execute_result"
    }
   ],
   "source": [
    "from apssdc.menu import *\n",
    "digitcount(234)"
   ]
  },
  {
   "cell_type": "markdown",
   "id": "165c2d79",
   "metadata": {},
   "source": [
    "#### comprehension:\n",
    "            - In python comprehension is used to provide the short and easy to create any sequences.. such as (list,dicitonary,set,generator)\n",
    "- 4 types of comprensions:\n",
    "- 1. List comprehension\n",
    "- 2. dicitonary comprehension\n",
    "- 3. set comprehension\n",
    "- 4. generator comprehension"
   ]
  },
  {
   "cell_type": "markdown",
   "id": "30d0fb93",
   "metadata": {},
   "source": [
    "### 1. List comprehension:\n",
    "        - To create the new list from another iterables..\n",
    "        - syntax:                 3                 1\n",
    "                variable_name = [output_expression forloop \n",
    "                     if(condition)]\n",
    "                       2"
   ]
  },
  {
   "cell_type": "code",
   "execution_count": 34,
   "id": "d3d6c78a",
   "metadata": {},
   "outputs": [
    {
     "name": "stdout",
     "output_type": "stream",
     "text": [
      "[1, 2, 3, 4, 5, 6, 7, 8, 9, 10]\n"
     ]
    }
   ],
   "source": [
    "# To generate the 1 to 10 natural numbers using list?\n",
    "# output: L1 = [1,2,3,4,5,6,7,8,9,10]\n",
    "L1 = []\n",
    "for i in range(1,11):\n",
    "    L1.append(i)\n",
    "print(L1)"
   ]
  },
  {
   "cell_type": "code",
   "execution_count": 35,
   "id": "0cc3fb82",
   "metadata": {},
   "outputs": [
    {
     "name": "stdout",
     "output_type": "stream",
     "text": [
      "[1, 2, 3, 4, 5, 6, 7, 8, 9, 10]\n"
     ]
    }
   ],
   "source": [
    "# To generate the 1 to 10 natural numbers using List comprehension?\n",
    "L2 = [i for i in range(1,11)]\n",
    "print(L2)"
   ]
  },
  {
   "cell_type": "code",
   "execution_count": 38,
   "id": "5893dcfc",
   "metadata": {},
   "outputs": [
    {
     "name": "stdout",
     "output_type": "stream",
     "text": [
      "[2, 4, 6, 8, 10, 12, 14, 16, 18, 20, 22, 24, 26, 28, 30, 32, 34, 36, 38, 40, 42, 44, 46, 48, 50, 52, 54, 56, 58, 60, 62, 64, 66, 68, 70, 72, 74, 76, 78, 80, 82, 84, 86, 88, 90, 92, 94, 96, 98, 100]\n"
     ]
    }
   ],
   "source": [
    "# To generate the 1 to 100 even natural number using LC?\n",
    "L3 = [i for i in range(1,101) if(i%2==0)]\n",
    "print(L3)"
   ]
  },
  {
   "cell_type": "code",
   "execution_count": 40,
   "id": "3d02e942",
   "metadata": {},
   "outputs": [
    {
     "name": "stdout",
     "output_type": "stream",
     "text": [
      "[-23, -80, -15]\n"
     ]
    }
   ],
   "source": [
    "L=[10,-23,-80,4,-15]\n",
    "# output: [-23,-80,-15]\n",
    "L2 = [i for i in L if i<0]\n",
    "print(L2)"
   ]
  },
  {
   "cell_type": "markdown",
   "id": "adcc87d5",
   "metadata": {},
   "source": [
    "### Dictionary comprehension:\n",
    "    - To create the new dictionary\n",
    "    - syntax:\n",
    "        variable_name = {key:value forloop if(condition)}"
   ]
  },
  {
   "cell_type": "code",
   "execution_count": 42,
   "id": "a5f42ffb",
   "metadata": {},
   "outputs": [
    {
     "name": "stdout",
     "output_type": "stream",
     "text": [
      "{1: 1, 2: 4, 3: 9, 4: 16, 5: 25, 6: 36, 7: 49, 8: 64, 9: 81, 10: 100}\n"
     ]
    }
   ],
   "source": [
    "# To create the 1 to 10 squares of a number?\n",
    "# d={1:1,2:4,3:9..........}\n",
    "d = {i:i*i for i in range(1,11)}\n",
    "print(d)"
   ]
  },
  {
   "cell_type": "code",
   "execution_count": 43,
   "id": "39f0e77a",
   "metadata": {},
   "outputs": [
    {
     "name": "stdout",
     "output_type": "stream",
     "text": [
      "{'apple': 'APPLE', 'mango': 'MANGO', 'banana': 'BANANA'}\n"
     ]
    }
   ],
   "source": [
    "L1=['apple','mango','banana']\n",
    "# output: d={'apple':APPLE,'mango':'MANGO'....}\n",
    "d1 = {i:i.upper() for i in L1}\n",
    "print(d1)"
   ]
  },
  {
   "cell_type": "code",
   "execution_count": 45,
   "id": "ae9b98a2",
   "metadata": {},
   "outputs": [
    {
     "name": "stdout",
     "output_type": "stream",
     "text": [
      "{'p': 3, 'y': 1, 't': 1, 'h': 2, 'o': 4, 'n': 2, 'r': 3, 'g': 2, 'a': 1, 'm': 2, 'i': 1, '@': 1, '1': 1, '2': 1, '3': 1, ' ': 1, 'w': 1, 'k': 1, 's': 1}\n"
     ]
    }
   ],
   "source": [
    "s =\"pythonprogramming@123 workshop\"\n",
    "# character frequencey\n",
    "# output: {p:3,y:1..........}\n",
    "d2 = {i:s.count(i) for i in s}\n",
    "print(d2)"
   ]
  },
  {
   "cell_type": "code",
   "execution_count": 46,
   "id": "33a16d53",
   "metadata": {},
   "outputs": [
    {
     "name": "stdout",
     "output_type": "stream",
     "text": [
      "{40, 10, 20, 30}\n"
     ]
    }
   ],
   "source": [
    "# set comprehension:\n",
    "# syntax: {output_expression forloop if(condition)}\n",
    "L=[10,20,10,30,40,40,10,20]\n",
    "s ={i for i in L}\n",
    "print(s)"
   ]
  },
  {
   "cell_type": "code",
   "execution_count": 48,
   "id": "519d6883",
   "metadata": {},
   "outputs": [
    {
     "name": "stdout",
     "output_type": "stream",
     "text": [
      "(1, 2, 3, 4, 5, 6, 7, 8, 9, 10)\n"
     ]
    }
   ],
   "source": [
    "# generator comprehension:\n",
    "# syntax: (output_expression forloop if(condition))\n",
    "t = (i for i in range(1,11))\n",
    "print(tuple(t))"
   ]
  },
  {
   "cell_type": "markdown",
   "id": "6c63cab9",
   "metadata": {},
   "source": [
    "#### tasks:\n",
    "1. To read one statement and then print the each word into uppercase using List comprehension?\n",
    "input: s=\"python programming appssdc workshop\"\n",
    "output: L =['PYTHON','PROGRAMMING','APSSDC','WORKSHOP']\n",
    "2. L = ['AITS','SRIT','SVCE','WORKSHOP'] character count using dictionary comprehension?\n",
    "output: d ={'AITS':4,...}"
   ]
  }
 ],
 "metadata": {
  "kernelspec": {
   "display_name": "Python 3",
   "language": "python",
   "name": "python3"
  },
  "language_info": {
   "codemirror_mode": {
    "name": "ipython",
    "version": 3
   },
   "file_extension": ".py",
   "mimetype": "text/x-python",
   "name": "python",
   "nbconvert_exporter": "python",
   "pygments_lexer": "ipython3",
   "version": "3.8.8"
  }
 },
 "nbformat": 4,
 "nbformat_minor": 5
}
